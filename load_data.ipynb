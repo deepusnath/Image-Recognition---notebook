{
 "cells": [
  {
   "cell_type": "code",
   "execution_count": 2,
   "metadata": {},
   "outputs": [],
   "source": [
    "import pickle\n",
    "from sklearn.model_selection import train_test_split\n",
    "from scipy import misc\n",
    "import numpy as np\n",
    "import os"
   ]
  },
  {
   "cell_type": "markdown",
   "metadata": {},
   "source": [
    "# Loading the Dataset"
   ]
  },
  {
   "cell_type": "code",
   "execution_count": 3,
   "metadata": {},
   "outputs": [],
   "source": [
    "label = os.listdir(\"dataset_image\")"
   ]
  },
  {
   "cell_type": "code",
   "execution_count": 4,
   "metadata": {},
   "outputs": [],
   "source": [
    "def load_datasets():\n",
    "\n",
    "    dataset=[]\n",
    "    for image_label in label:\n",
    "\n",
    "        images = os.listdir(\"dataset_image/\"+image_label)\n",
    "\n",
    "        for image in images:\n",
    "            img = misc.imread(\"dataset_image/\"+image_label+\"/\"+image)\n",
    "            img = misc.imresize(img, (64, 64))\n",
    "            dataset.append((img,image_label))\n",
    "\n",
    "    X=[]\n",
    "    y=[]\n",
    "    for  input,image_label in dataset:\n",
    "\n",
    "        X.append(input)\n",
    "\n",
    "        y.append(label.index(image_label))\n",
    "\n",
    "    X=np.array(X)\n",
    "    y=np.array(y)\n",
    "\n",
    "\n",
    "    return X,y"
   ]
  },
  {
   "cell_type": "code",
   "execution_count": null,
   "metadata": {},
   "outputs": [],
   "source": [
    "\n"
   ]
  },
  {
   "cell_type": "code",
   "execution_count": null,
   "metadata": {},
   "outputs": [],
   "source": [
    "save_label = open(\"int_to_word_out.pickle\",\"wb\")\n",
    "pickle.dump(label, save_label)\n",
    "save_label.close()"
   ]
  }
 ],
 "metadata": {
  "kernelspec": {
   "display_name": "Python 3",
   "language": "python",
   "name": "python3"
  },
  "language_info": {
   "codemirror_mode": {
    "name": "ipython",
    "version": 3
   },
   "file_extension": ".py",
   "mimetype": "text/x-python",
   "name": "python",
   "nbconvert_exporter": "python",
   "pygments_lexer": "ipython3",
   "version": "3.5.2"
  }
 },
 "nbformat": 4,
 "nbformat_minor": 2
}
